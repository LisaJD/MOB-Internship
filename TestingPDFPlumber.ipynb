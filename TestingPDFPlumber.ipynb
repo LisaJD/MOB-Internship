{
 "cells": [
  {
   "cell_type": "code",
   "execution_count": null,
   "id": "initial_id",
   "metadata": {
    "collapsed": true
   },
   "outputs": [],
   "source": [
    ""
   ]
  },
  {
   "metadata": {
    "ExecuteTime": {
     "end_time": "2025-01-26T07:57:49.491541Z",
     "start_time": "2025-01-26T07:57:49.480103Z"
    }
   },
   "cell_type": "code",
   "source": [
    "import pdfplumber\n",
    "\n",
    "with pdfplumber.open(\"IntegratedList.pdf\") as pdf:\n",
    "    first_page = pdf.pages[0]\n",
    "    \n",
    "    # Extract tables from a page\n",
    "    # for table in first_page.extract_tables():\n",
    "    #     print(\"Table:\")\n",
    "    #     for row in table:\n",
    "    #         print(row)\n",
    "            \n",
    "    "
   ],
   "id": "dbccb12dcf5c8103",
   "outputs": [],
   "execution_count": 19
  },
  {
   "metadata": {
    "ExecuteTime": {
     "end_time": "2025-01-26T07:57:52.221491Z",
     "start_time": "2025-01-26T07:57:52.046062Z"
    }
   },
   "cell_type": "code",
   "source": [
    "# Open the PDF file\n",
    "with pdfplumber.open(\"IntegratedList.pdf\") as pdf:\n",
    "    first_page = pdf.pages[0]\n",
    "    \n",
    "    # Extract tables\n",
    "    for table_index, table in enumerate(first_page.extract_tables(), start=1):\n",
    "        print(f\"--- Table {table_index} ---\")\n",
    "        \n",
    "        for row_index, row in enumerate(table, start=1):\n",
    "            print(f\"Row {row_index}: {row}\")\n",
    "            \n",
    "        if table:  # Check if the table is not empty\n",
    "            first_row = table[0]  # Extract the first row\n",
    "            \n",
    "            print(\"First Row:\", first_row[0][0])\n",
    "            matching_chars = [\n",
    "                    char for char in first_page.chars\n",
    "                    if first_row[0][0] in char[\"text\"]\n",
    "                ]\n",
    "            print(matching_chars)\n",
    "              \n",
    "                # Get character details for this cell\n",
    "                # matching_chars = [\n",
    "                #     char for char in first_page.chars\n",
    "                #     if cell in char[\"text\"]\n",
    "                # ]\n",
    "            #     \n",
    "            #     # Print font sizes and text for the matching characters\n",
    "            #     for char in matching_chars:\n",
    "            #         print(f\"Text: '{char['text']}', Font Size: {char['size']}\")"
   ],
   "id": "d1f5e8a23a7c08f4",
   "outputs": [
    {
     "name": "stdout",
     "output_type": "stream",
     "text": [
      "--- Table 1 ---\n",
      "Row 1: ['Item\\nnumber', '', 'Integrated list', 'IRIS', 'IRDTS']\n",
      "Row 2: ['4.4.2.9', '', 'Other non-industrial services', 'Other non-industrial services', 'Other non-industrial services']\n",
      "Row 3: ['4.5', '', 'Purchases of goods and services for resale in the\\nsame conditions as received', 'Purchases of goods and services for resale in\\nthe same conditions as received', 'Purchases of goods and services for resale in\\nthe same conditions as received']\n",
      "Row 4: ['4.5.1', '', 'Fuels bought for resale without further processing', '', 'Fuels bought for resale without further\\nprocessing']\n",
      "Row 5: ['4.5.2', '', 'Purchases of motor vehicle and motor cycle parts\\nused solely in repair and servicing activities', '', 'Purchases of motor vehicle and motor cycle\\nparts used solely in repair and servicing\\nactivities']\n",
      "Row 6: ['4.5.3', '', 'All other goods bought for resale without further\\nprocessing', '', 'All other goods bought for resale without\\nfurther processing']\n",
      "Row 7: ['4.5.4', '', 'Services purchased for resale without further\\nprocessing', '', 'Services purchased for resale without further\\nprocessing']\n",
      "Row 8: ['4.6', '', 'Rental payments', 'Rental payments', 'Rental payments']\n",
      "Row 9: ['4.6.1', '', 'Rental payments for machinery and\\nequipments', 'Rental payments for machinery and\\nequipments', 'Rental payments for machinery and\\nequipments']\n",
      "Row 10: ['4.6.2', '', 'Rental payments for dwellings and structures', 'Rental payments for dwellings and\\nstructures', 'Rental payments for dwellings and\\nstructures']\n",
      "Row 11: ['4.7', '', 'Non-life insurance premiums payable on\\nestablishment property', 'Non-life insurance premiums payable on\\nestablishment property', 'Non-life insurance premiums payable on\\nestablishment property']\n",
      "First Row: I\n",
      "[{'matrix': (10.258047432, 0.0, 0.0, 10.258047432, 132.933864744, 514.6006327919999), 'fontname': 'AAAAAB+Arial-BoldMT', 'adv': 0.278, 'upright': True, 'x0': 132.933864744, 'y0': 512.4259267364159, 'x1': 135.785601930096, 'y1': 522.683974168416, 'width': 2.8517371860959884, 'height': 10.258047432000012, 'size': 10.258047432000012, 'mcid': None, 'tag': None, 'object_type': 'char', 'page_number': 1, 'ncs': 'DeviceGray', 'text': 'I', 'stroking_color': None, 'stroking_pattern': None, 'non_stroking_color': None, 'non_stroking_pattern': None, 'top': 72.31602583158406, 'bottom': 82.57407326358407, 'doctop': 72.31602583158406}, {'matrix': (10.258047432, 0.0, 0.0, 10.258047432, 254.06851228799997, 508.714867872), 'fontname': 'AAAAAB+Arial-BoldMT', 'adv': 0.278, 'upright': True, 'x0': 254.06851228799997, 'y0': 506.540161816416, 'x1': 256.92024947409595, 'y1': 516.798209248416, 'width': 2.8517371860959884, 'height': 10.258047432000012, 'size': 10.258047432000012, 'mcid': None, 'tag': None, 'object_type': 'char', 'page_number': 1, 'ncs': 'DeviceGray', 'text': 'I', 'stroking_color': None, 'stroking_pattern': None, 'non_stroking_color': None, 'non_stroking_pattern': None, 'top': 78.20179075158399, 'bottom': 88.459838183584, 'doctop': 78.20179075158399}, {'matrix': (10.258047432, 0.0, 0.0, 10.258047432, 469.84654002011996, 508.714867872), 'fontname': 'AAAAAB+Arial-BoldMT', 'adv': 0.278, 'upright': True, 'x0': 469.84654002011996, 'y0': 506.540161816416, 'x1': 472.69827720621595, 'y1': 516.798209248416, 'width': 2.8517371860959884, 'height': 10.258047432000012, 'size': 10.258047432000012, 'mcid': None, 'tag': None, 'object_type': 'char', 'page_number': 1, 'ncs': 'DeviceGray', 'text': 'I', 'stroking_color': None, 'stroking_pattern': None, 'non_stroking_color': None, 'non_stroking_pattern': None, 'top': 78.20179075158399, 'bottom': 88.459838183584, 'doctop': 78.20179075158399}, {'matrix': (10.258047432, 0.0, 0.0, 10.258047432, 480.11484549955196, 508.714867872), 'fontname': 'AAAAAB+Arial-BoldMT', 'adv': 0.278, 'upright': True, 'x0': 480.11484549955196, 'y0': 506.540161816416, 'x1': 482.96658268564795, 'y1': 516.798209248416, 'width': 2.8517371860959884, 'height': 10.258047432000012, 'size': 10.258047432000012, 'mcid': None, 'tag': None, 'object_type': 'char', 'page_number': 1, 'ncs': 'DeviceGray', 'text': 'I', 'stroking_color': None, 'stroking_pattern': None, 'non_stroking_color': None, 'non_stroking_pattern': None, 'top': 78.20179075158399, 'bottom': 88.459838183584, 'doctop': 78.20179075158399}, {'matrix': (10.258047432, 0.0, 0.0, 10.258047432, 649.41366031728, 508.714867872), 'fontname': 'AAAAAB+Arial-BoldMT', 'adv': 0.278, 'upright': True, 'x0': 649.41366031728, 'y0': 506.540161816416, 'x1': 652.265397503376, 'y1': 516.798209248416, 'width': 2.8517371860959884, 'height': 10.258047432000012, 'size': 10.258047432000012, 'mcid': None, 'tag': None, 'object_type': 'char', 'page_number': 1, 'ncs': 'DeviceGray', 'text': 'I', 'stroking_color': None, 'stroking_pattern': None, 'non_stroking_color': None, 'non_stroking_pattern': None, 'top': 78.20179075158399, 'bottom': 88.459838183584, 'doctop': 78.20179075158399}, {'matrix': (10.258047432, 0.0, 0.0, 10.258047432, 132.933864744, 242.39801896799997), 'fontname': 'AAAAAB+Arial-BoldMT', 'adv': 0.278, 'upright': True, 'x0': 132.933864744, 'y0': 240.22331291241596, 'x1': 135.785601930096, 'y1': 250.48136034441598, 'width': 2.8517371860959884, 'height': 10.258047432000012, 'size': 10.258047432000012, 'mcid': 52, 'tag': 'P', 'object_type': 'char', 'page_number': 1, 'ncs': 'DeviceGray', 'text': 'I', 'stroking_color': None, 'stroking_pattern': None, 'non_stroking_color': None, 'non_stroking_pattern': None, 'top': 344.518639655584, 'bottom': 354.77668708758404, 'doctop': 344.518639655584}, {'matrix': (10.258047432, 0.0, 0.0, 10.258047432, 254.06851228799997, 236.51225404800005), 'fontname': 'AAAAAB+Arial-BoldMT', 'adv': 0.278, 'upright': True, 'x0': 254.06851228799997, 'y0': 234.33754799241603, 'x1': 256.92024947409595, 'y1': 244.59559542441605, 'width': 2.8517371860959884, 'height': 10.258047432000012, 'size': 10.258047432000012, 'mcid': 54, 'tag': 'P', 'object_type': 'char', 'page_number': 1, 'ncs': 'DeviceGray', 'text': 'I', 'stroking_color': None, 'stroking_pattern': None, 'non_stroking_color': None, 'non_stroking_pattern': None, 'top': 350.40440457558395, 'bottom': 360.66245200758397, 'doctop': 350.40440457558395}, {'matrix': (10.258047432, 0.0, 0.0, 10.258047432, 469.84710056916, 236.51225404800005), 'fontname': 'AAAAAB+Arial-BoldMT', 'adv': 0.278, 'upright': True, 'x0': 469.84710056916, 'y0': 234.33754799241603, 'x1': 472.69883775525597, 'y1': 244.59559542441605, 'width': 2.8517371860959884, 'height': 10.258047432000012, 'size': 10.258047432000012, 'mcid': 55, 'tag': 'P', 'object_type': 'char', 'page_number': 1, 'ncs': 'DeviceGray', 'text': 'I', 'stroking_color': None, 'stroking_pattern': None, 'non_stroking_color': None, 'non_stroking_pattern': None, 'top': 350.40440457558395, 'bottom': 360.66245200758397, 'doctop': 350.40440457558395}, {'matrix': (10.258047432, 0.0, 0.0, 10.258047432, 480.115406048592, 236.51225404800005), 'fontname': 'AAAAAB+Arial-BoldMT', 'adv': 0.278, 'upright': True, 'x0': 480.115406048592, 'y0': 234.33754799241603, 'x1': 482.96714323468797, 'y1': 244.59559542441605, 'width': 2.8517371860959884, 'height': 10.258047432000012, 'size': 10.258047432000012, 'mcid': 55, 'tag': 'P', 'object_type': 'char', 'page_number': 1, 'ncs': 'DeviceGray', 'text': 'I', 'stroking_color': None, 'stroking_pattern': None, 'non_stroking_color': None, 'non_stroking_pattern': None, 'top': 350.40440457558395, 'bottom': 360.66245200758397, 'doctop': 350.40440457558395}, {'matrix': (10.258047432, 0.0, 0.0, 10.258047432, 649.40917592496, 236.51225404800005), 'fontname': 'AAAAAB+Arial-BoldMT', 'adv': 0.278, 'upright': True, 'x0': 649.40917592496, 'y0': 234.33754799241603, 'x1': 652.260913111056, 'y1': 244.59559542441605, 'width': 2.8517371860959884, 'height': 10.258047432000012, 'size': 10.258047432000012, 'mcid': 56, 'tag': 'P', 'object_type': 'char', 'page_number': 1, 'ncs': 'DeviceGray', 'text': 'I', 'stroking_color': None, 'stroking_pattern': None, 'non_stroking_color': None, 'non_stroking_pattern': None, 'top': 350.40440457558395, 'bottom': 360.66245200758397, 'doctop': 350.40440457558395}]\n",
      "--- Table 2 ---\n",
      "Row 1: ['Item\\nnumber', '', 'Integrated list', 'IRIS', 'IRDTS']\n",
      "Row 2: ['Q4.1', '', 'Quantity of individually important materials and\\nsupplies', 'Quantity of individually important materials\\nand supplies', '']\n",
      "Row 3: ['Q4.2', '', 'Quantity of individual fuels and gas purchased', 'Quantity of individual fuels and gas purchased', '']\n",
      "Row 4: ['Q4.2.1', '', 'Quantity of electricity purchased', 'Quantity of electricity purchased', '']\n",
      "Row 5: ['Q4.2.2', '', 'Quantity of electricity generated', 'Quantity of electricity generated', '']\n",
      "Row 6: ['Q4.2.3', '', 'Quantity of electricity sold', 'Quantity of electricity sold', '']\n",
      "Row 7: ['Q4.2.4', '', 'Total energy consumed (tera joules)', 'Total energy consumed (tera joules)', '']\n",
      "Row 8: ['Q4.3.1', '', 'Quantity of water purchased', 'Quantity of water purchased', '']\n",
      "Row 9: ['Q4.3.1.1', '', 'Quantity of water abstracted for own use', 'Quantity of water abstracted for own use', '']\n",
      "Row 10: ['Q4.3.1.2', '', 'Quantity of water sold', 'Quantity of water sold', '']\n",
      "Row 11: ['Q4.3.1.3', '', 'Total water used (cubic maters)', 'Total water used (cubic maters)', '']\n",
      "First Row: I\n",
      "[{'matrix': (10.258047432, 0.0, 0.0, 10.258047432, 132.933864744, 514.6006327919999), 'fontname': 'AAAAAB+Arial-BoldMT', 'adv': 0.278, 'upright': True, 'x0': 132.933864744, 'y0': 512.4259267364159, 'x1': 135.785601930096, 'y1': 522.683974168416, 'width': 2.8517371860959884, 'height': 10.258047432000012, 'size': 10.258047432000012, 'mcid': None, 'tag': None, 'object_type': 'char', 'page_number': 1, 'ncs': 'DeviceGray', 'text': 'I', 'stroking_color': None, 'stroking_pattern': None, 'non_stroking_color': None, 'non_stroking_pattern': None, 'top': 72.31602583158406, 'bottom': 82.57407326358407, 'doctop': 72.31602583158406}, {'matrix': (10.258047432, 0.0, 0.0, 10.258047432, 254.06851228799997, 508.714867872), 'fontname': 'AAAAAB+Arial-BoldMT', 'adv': 0.278, 'upright': True, 'x0': 254.06851228799997, 'y0': 506.540161816416, 'x1': 256.92024947409595, 'y1': 516.798209248416, 'width': 2.8517371860959884, 'height': 10.258047432000012, 'size': 10.258047432000012, 'mcid': None, 'tag': None, 'object_type': 'char', 'page_number': 1, 'ncs': 'DeviceGray', 'text': 'I', 'stroking_color': None, 'stroking_pattern': None, 'non_stroking_color': None, 'non_stroking_pattern': None, 'top': 78.20179075158399, 'bottom': 88.459838183584, 'doctop': 78.20179075158399}, {'matrix': (10.258047432, 0.0, 0.0, 10.258047432, 469.84654002011996, 508.714867872), 'fontname': 'AAAAAB+Arial-BoldMT', 'adv': 0.278, 'upright': True, 'x0': 469.84654002011996, 'y0': 506.540161816416, 'x1': 472.69827720621595, 'y1': 516.798209248416, 'width': 2.8517371860959884, 'height': 10.258047432000012, 'size': 10.258047432000012, 'mcid': None, 'tag': None, 'object_type': 'char', 'page_number': 1, 'ncs': 'DeviceGray', 'text': 'I', 'stroking_color': None, 'stroking_pattern': None, 'non_stroking_color': None, 'non_stroking_pattern': None, 'top': 78.20179075158399, 'bottom': 88.459838183584, 'doctop': 78.20179075158399}, {'matrix': (10.258047432, 0.0, 0.0, 10.258047432, 480.11484549955196, 508.714867872), 'fontname': 'AAAAAB+Arial-BoldMT', 'adv': 0.278, 'upright': True, 'x0': 480.11484549955196, 'y0': 506.540161816416, 'x1': 482.96658268564795, 'y1': 516.798209248416, 'width': 2.8517371860959884, 'height': 10.258047432000012, 'size': 10.258047432000012, 'mcid': None, 'tag': None, 'object_type': 'char', 'page_number': 1, 'ncs': 'DeviceGray', 'text': 'I', 'stroking_color': None, 'stroking_pattern': None, 'non_stroking_color': None, 'non_stroking_pattern': None, 'top': 78.20179075158399, 'bottom': 88.459838183584, 'doctop': 78.20179075158399}, {'matrix': (10.258047432, 0.0, 0.0, 10.258047432, 649.41366031728, 508.714867872), 'fontname': 'AAAAAB+Arial-BoldMT', 'adv': 0.278, 'upright': True, 'x0': 649.41366031728, 'y0': 506.540161816416, 'x1': 652.265397503376, 'y1': 516.798209248416, 'width': 2.8517371860959884, 'height': 10.258047432000012, 'size': 10.258047432000012, 'mcid': None, 'tag': None, 'object_type': 'char', 'page_number': 1, 'ncs': 'DeviceGray', 'text': 'I', 'stroking_color': None, 'stroking_pattern': None, 'non_stroking_color': None, 'non_stroking_pattern': None, 'top': 78.20179075158399, 'bottom': 88.459838183584, 'doctop': 78.20179075158399}, {'matrix': (10.258047432, 0.0, 0.0, 10.258047432, 132.933864744, 242.39801896799997), 'fontname': 'AAAAAB+Arial-BoldMT', 'adv': 0.278, 'upright': True, 'x0': 132.933864744, 'y0': 240.22331291241596, 'x1': 135.785601930096, 'y1': 250.48136034441598, 'width': 2.8517371860959884, 'height': 10.258047432000012, 'size': 10.258047432000012, 'mcid': 52, 'tag': 'P', 'object_type': 'char', 'page_number': 1, 'ncs': 'DeviceGray', 'text': 'I', 'stroking_color': None, 'stroking_pattern': None, 'non_stroking_color': None, 'non_stroking_pattern': None, 'top': 344.518639655584, 'bottom': 354.77668708758404, 'doctop': 344.518639655584}, {'matrix': (10.258047432, 0.0, 0.0, 10.258047432, 254.06851228799997, 236.51225404800005), 'fontname': 'AAAAAB+Arial-BoldMT', 'adv': 0.278, 'upright': True, 'x0': 254.06851228799997, 'y0': 234.33754799241603, 'x1': 256.92024947409595, 'y1': 244.59559542441605, 'width': 2.8517371860959884, 'height': 10.258047432000012, 'size': 10.258047432000012, 'mcid': 54, 'tag': 'P', 'object_type': 'char', 'page_number': 1, 'ncs': 'DeviceGray', 'text': 'I', 'stroking_color': None, 'stroking_pattern': None, 'non_stroking_color': None, 'non_stroking_pattern': None, 'top': 350.40440457558395, 'bottom': 360.66245200758397, 'doctop': 350.40440457558395}, {'matrix': (10.258047432, 0.0, 0.0, 10.258047432, 469.84710056916, 236.51225404800005), 'fontname': 'AAAAAB+Arial-BoldMT', 'adv': 0.278, 'upright': True, 'x0': 469.84710056916, 'y0': 234.33754799241603, 'x1': 472.69883775525597, 'y1': 244.59559542441605, 'width': 2.8517371860959884, 'height': 10.258047432000012, 'size': 10.258047432000012, 'mcid': 55, 'tag': 'P', 'object_type': 'char', 'page_number': 1, 'ncs': 'DeviceGray', 'text': 'I', 'stroking_color': None, 'stroking_pattern': None, 'non_stroking_color': None, 'non_stroking_pattern': None, 'top': 350.40440457558395, 'bottom': 360.66245200758397, 'doctop': 350.40440457558395}, {'matrix': (10.258047432, 0.0, 0.0, 10.258047432, 480.115406048592, 236.51225404800005), 'fontname': 'AAAAAB+Arial-BoldMT', 'adv': 0.278, 'upright': True, 'x0': 480.115406048592, 'y0': 234.33754799241603, 'x1': 482.96714323468797, 'y1': 244.59559542441605, 'width': 2.8517371860959884, 'height': 10.258047432000012, 'size': 10.258047432000012, 'mcid': 55, 'tag': 'P', 'object_type': 'char', 'page_number': 1, 'ncs': 'DeviceGray', 'text': 'I', 'stroking_color': None, 'stroking_pattern': None, 'non_stroking_color': None, 'non_stroking_pattern': None, 'top': 350.40440457558395, 'bottom': 360.66245200758397, 'doctop': 350.40440457558395}, {'matrix': (10.258047432, 0.0, 0.0, 10.258047432, 649.40917592496, 236.51225404800005), 'fontname': 'AAAAAB+Arial-BoldMT', 'adv': 0.278, 'upright': True, 'x0': 649.40917592496, 'y0': 234.33754799241603, 'x1': 652.260913111056, 'y1': 244.59559542441605, 'width': 2.8517371860959884, 'height': 10.258047432000012, 'size': 10.258047432000012, 'mcid': 56, 'tag': 'P', 'object_type': 'char', 'page_number': 1, 'ncs': 'DeviceGray', 'text': 'I', 'stroking_color': None, 'stroking_pattern': None, 'non_stroking_color': None, 'non_stroking_pattern': None, 'top': 350.40440457558395, 'bottom': 360.66245200758397, 'doctop': 350.40440457558395}]\n"
     ]
    }
   ],
   "execution_count": 20
  },
  {
   "metadata": {
    "ExecuteTime": {
     "end_time": "2025-01-26T07:58:25.811060Z",
     "start_time": "2025-01-26T07:58:23.965618Z"
    }
   },
   "cell_type": "code",
   "source": [
    "import pdfplumber\n",
    "from reportlab.pdfgen import canvas\n",
    "from reportlab.lib.pagesizes import A0\n",
    "\n",
    "input_pdf = \"IntegratedList.pdf\"  # Replace with your PDF file path\n",
    "output_pdf = \"merged_output.pdf\"\n",
    "\n",
    "# Open the input PDF\n",
    "with pdfplumber.open(input_pdf) as pdf:\n",
    "    # Calculate the total height for all pages\n",
    "    total_height = sum(page.height for page in pdf.pages)\n",
    "    page_width = pdf.pages[0].width\n",
    "\n",
    "    # Create a canvas with a tall enough height\n",
    "    c = canvas.Canvas(output_pdf, pagesize=(page_width, total_height))\n",
    "\n",
    "    current_y = total_height\n",
    "    for page in pdf.pages:\n",
    "        Page.crop(bounding_box)\n",
    "        # Convert each page to an image\n",
    "        img = page.to_image(resolution=300)\n",
    "        img_path = f\"temp_page_{page.page_number}.jpg\"\n",
    "        img.save(img_path)\n",
    "\n",
    "        # Place the image on the canvas\n",
    "        current_y -= page.height\n",
    "        c.drawImage(img_path, 0, current_y, width=page.width, height=page.height)\n",
    "\n",
    "    c.save()\n",
    "\n",
    "print(f\"Merged PDF saved to {output_pdf}\")"
   ],
   "id": "23724c1e74db66ae",
   "outputs": [
    {
     "name": "stdout",
     "output_type": "stream",
     "text": [
      "Merged PDF saved to merged_output.pdf\n"
     ]
    }
   ],
   "execution_count": 21
  },
  {
   "metadata": {},
   "cell_type": "code",
   "outputs": [],
   "execution_count": null,
   "source": "",
   "id": "143fbb4c0de38730"
  }
 ],
 "metadata": {
  "kernelspec": {
   "display_name": "Python 3",
   "language": "python",
   "name": "python3"
  },
  "language_info": {
   "codemirror_mode": {
    "name": "ipython",
    "version": 2
   },
   "file_extension": ".py",
   "mimetype": "text/x-python",
   "name": "python",
   "nbconvert_exporter": "python",
   "pygments_lexer": "ipython2",
   "version": "2.7.6"
  }
 },
 "nbformat": 4,
 "nbformat_minor": 5
}
