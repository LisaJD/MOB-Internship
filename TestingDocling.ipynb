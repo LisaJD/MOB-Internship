{
  "nbformat": 4,
  "nbformat_minor": 0,
  "metadata": {
    "colab": {
      "provenance": []
    },
    "kernelspec": {
      "name": "python3",
      "display_name": "Python 3"
    },
    "language_info": {
      "name": "python"
    }
  },
  "cells": [
    {
      "cell_type": "code",
      "execution_count": 1,
      "metadata": {
        "id": "ZU1ROx6zZMeB"
      },
      "outputs": [],
      "source": [
        "import docling"
      ]
    },
    {
      "cell_type": "code",
      "source": [
        "from docling.document_converter import DocumentConverter\n",
        "\n",
        "source = \"IntegratedList.pdf\"  # document per local path or URL\n",
        "converter = DocumentConverter()\n",
        "result = converter.convert(source)\n",
        "print(result.document.export_to_markdown())"
      ],
      "metadata": {
        "colab": {
          "base_uri": "https://localhost:8080/"
        },
        "id": "kCrpon9GZN9h",
        "outputId": "4a18e5d1-5075-4580-cd0a-2dabf471eb37"
      },
      "execution_count": 2,
      "outputs": [
        {
          "output_type": "stream",
          "name": "stderr",
          "text": [
            "/usr/local/lib/python3.11/dist-packages/huggingface_hub/utils/_auth.py:94: UserWarning: \n",
            "The secret `HF_TOKEN` does not exist in your Colab secrets.\n",
            "To authenticate with the Hugging Face Hub, create a token in your settings tab (https://huggingface.co/settings/tokens), set it as secret in your Google Colab and restart your session.\n",
            "You will be able to reuse this secret in all of your notebooks.\n",
            "Please note that authentication is recommended but still optional to access public models or datasets.\n",
            "  warnings.warn(\n",
            "WARNING:easyocr.easyocr:Downloading detection model, please wait. This may take several minutes depending upon your network connection.\n",
            "WARNING:easyocr.easyocr:Downloading recognition model, please wait. This may take several minutes depending upon your network connection.\n"
          ]
        },
        {
          "output_type": "stream",
          "name": "stdout",
          "text": [
            "| Item  number   | Integrated list                                                                                  | IRIS                                                                           | IRDTS                                                                                             |\n",
            "|----------------|--------------------------------------------------------------------------------------------------|--------------------------------------------------------------------------------|---------------------------------------------------------------------------------------------------|\n",
            "| 4.4.2.9        | Other non-industrial services                                                                    | Other non-industrial services                                                  | Other non-industrial services                                                                     |\n",
            "| 4.5            | Purchases of goods and services for resale in the  same conditions as received                   | Purchases of goods and services for resale in  the same conditions as received | Purchases of goods and services for resale in  the same conditions as received                    |\n",
            "| 4.5.1          | Fuels bought for resale without further processing                                               |                                                                                | Fuels bought for resale without further  processing                                               |\n",
            "| 4.5.2          | Purchases of motor vehicle and motor cycle parts  used solely in repair and servicing activities |                                                                                | Purchases of motor vehicle and motor cycle  parts used solely in repair and servicing  activities |\n",
            "| 4.5.3          | All other goods bought for resale without further  processing                                    |                                                                                | All other goods bought for resale without  further processing                                     |\n",
            "| 4.5.4          | Services purchased for resale without further  processing                                        |                                                                                | Services purchased for resale without further  processing                                         |\n",
            "| 4.6            | Rental payments                                                                                  | Rental payments                                                                | Rental payments                                                                                   |\n",
            "| 4.6.1          | Rental payments for machinery and  equipments                                                    | Rental payments for machinery and  equipments                                  | Rental payments for machinery and  equipments                                                     |\n",
            "| 4.6.2          | Rental payments for dwellings and structures                                                     | Rental payments for dwellings and  structures                                  | Rental payments for dwellings and  structures                                                     |\n",
            "| 4.7            | Non-life insurance premiums payable on  establishment property                                   | Non-life insurance premiums payable on  establishment property                 | Non-life insurance premiums payable on  establishment property                                    |\n",
            "\n",
            "## 4. (b) Data items on quantity\n",
            "\n",
            "| Item  number   | Integrated list                                            | IRIS                                                       | IRDTS   |\n",
            "|----------------|------------------------------------------------------------|------------------------------------------------------------|---------|\n",
            "| Q4.1           | Quantity of individually important materials and  supplies | Quantity of individually important materials  and supplies |         |\n",
            "| Q4.2           | Quantity of individual fuels and gas purchased             | Quantity of individual fuels and gas purchased             |         |\n",
            "| Q4.2.1         | Quantity of  electricity purchased                         | Quantity of  electricity purchased                         |         |\n",
            "| Q4.2.2         | Quantity of  electricity generated                         | Quantity of  electricity generated                         |         |\n",
            "| Q4.2.3         | Quantity of electricity sold                               | Quantity of electricity sold                               |         |\n",
            "| Q4.2.4         | Total energy consumed (tera joules)                        | Total energy consumed (tera joules)                        |         |\n",
            "| Q4.3.1         | Quantity of water purchased                                | Quantity of water purchased                                |         |\n",
            "| Q4.3.1.1       | Quantity of water abstracted for own use                   | Quantity of water abstracted for own use                   |         |\n",
            "| Q4.3.1.2       | Quantity of water sold                                     | Quantity of water sold                                     |         |\n",
            "| Q4.3.1.3       | Total water used (cubic maters)                            | Total water used (cubic maters)                            |         |\n",
            "\n",
            "| Q4.3.2   | Quantity of wastewater treated on site prior to  discharge   | Quantity of wastewater treated on site prior to  discharge   |\n",
            "|----------|--------------------------------------------------------------|--------------------------------------------------------------|\n",
            "| Q4.3.3   | Quantity of wastewater discharged without  treatment         | Quantity of wastewater discharged without  treatment         |\n",
            "\n",
            "## E. Turnover, sales, shipments, receipts for services and other revenues (excluding property income)\n",
            "\n",
            "## 5. (a) Turnover, sales, shipments, receipts for services and other revenues\n",
            "\n",
            "| Item  number   | Integrated list                                                                                                     | IRIS                                                                                                                | IRDTS                                                                                                               |\n",
            "|----------------|---------------------------------------------------------------------------------------------------------------------|---------------------------------------------------------------------------------------------------------------------|---------------------------------------------------------------------------------------------------------------------|\n",
            "| 5.1            | Sale/Turnover/Value of shipments, including  transfers to other establishments of the same  enterprise              | Sale/Turnover/Value of shipments, including  transfers to other establishments of the same  enterprise              | Sale/Turnover/Value of shipments, including  transfers to other establishments of the same  enterprise              |\n",
            "| 5.1.1          | Sale/Turnover/Value of shipments of goods  produced by the establishment                                            | Sale/Turnover/Value of shipments of  goods produced by the establishment                                            | Sale/Turnover/Value of shipments of goods  produced by the establishment                                            |\n",
            "| 5.1.1.1        | Sale/Turnover/Value of shipments of goods  produced to other enterprises                                            | Sale/Turnover/Value of shipments of  goods produced to other enterprises                                            |                                                                                                                     |\n",
            "| 5.1.1.2        | Transfers of goods produced to other  establishments of the same enterprise                                         | Transfers of goods produced to other  establishments of the same enterprise                                         |                                                                                                                     |\n",
            "| 5.1.1.3        | Exported to customers and affiliated foreign  branches                                                              | Exported to customers and affiliated  foreign branches                                                              |                                                                                                                     |\n",
            "| 5.1.2          | Sale/Turnover/Value of shipments of all goods and  services purchased for resale in the same condition  as received | Sale/Turnover/Value of shipments of all  goods and services purchased for resale in the  same condition as received | Sale/Turnover/Value of shipments of all  goods and services purchased for resale in the  same condition as received |\n",
            "| 5.1.2.1        | Gift cards sales                                                                                                    |                                                                                                                     | Gift cards sales                                                                                                    |\n",
            "| 5.1.3          | Commissions and fees from selling goods and  services on account of others                                          |                                                                                                                     | Commissions and fees from selling goods and  services on account of others                                          |\n",
            "| 5.1.4          | Receipts for industrial work done or industrial   services rendered to others  Of which:                            | Receipts for industrial work done or industrial   services rendered to others  Of which:                            | Receipts for industrial work done or industrial   services rendered to others                                       |\n",
            "| 5.1.4.1        | Contract and commission work                                                                                        | Contract and commission work                                                                                        | Contract and commission work                                                                                        |\n",
            "| 5.1.4.1.1      | From units not resident in the country                                                                              | From units not resident in the country                                                                              |                                                                                                                     |\n",
            "| 5.1.4.2        | Repair, maintenance and construction work                                                                           | Repair, maintenance and construction work                                                                           | Repair, maintenance and construction work                                                                           |\n",
            "| 5.1.4.3        | Installation work                                                                                                   | Installation Work                                                                                                   | Installation work                                                                                                   |\n"
          ]
        }
      ]
    },
    {
      "cell_type": "code",
      "source": [],
      "metadata": {
        "id": "C7LFwqVmfU9I"
      },
      "execution_count": null,
      "outputs": []
    }
  ]
}