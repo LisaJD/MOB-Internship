{
 "cells": [
  {
   "cell_type": "code",
   "id": "initial_id",
   "metadata": {
    "collapsed": true,
    "ExecuteTime": {
     "end_time": "2025-01-26T04:46:27.635945Z",
     "start_time": "2025-01-26T04:46:25.502680Z"
    }
   },
   "source": "%pip install html2text",
   "outputs": [
    {
     "name": "stdout",
     "output_type": "stream",
     "text": [
      "Collecting html2text\r\n",
      "  Downloading html2text-2024.2.26.tar.gz (56 kB)\r\n",
      "\u001B[2K     \u001B[90m━━━━━━━━━━━━━━━━━━━━━━━━━━━━━━━━━━━━━━━━\u001B[0m \u001B[32m56.5/56.5 kB\u001B[0m \u001B[31m4.5 MB/s\u001B[0m eta \u001B[36m0:00:00\u001B[0m\r\n",
      "\u001B[?25h  Preparing metadata (setup.py) ... \u001B[?25ldone\r\n",
      "\u001B[?25hBuilding wheels for collected packages: html2text\r\n",
      "  Building wheel for html2text (setup.py) ... \u001B[?25ldone\r\n",
      "\u001B[?25h  Created wheel for html2text: filename=html2text-2024.2.26-py3-none-any.whl size=33110 sha256=b2db001a03c18d209cded52633fcce3988436c4c28e615c227832ba2e6e6bf3e\r\n",
      "  Stored in directory: /Users/lisa-jd/Library/Caches/pip/wheels/4a/af/14/e28d92a6cb558e73559e73d480b75629263d809dd0fc7363be\r\n",
      "Successfully built html2text\r\n",
      "Installing collected packages: html2text\r\n",
      "Successfully installed html2text-2024.2.26\r\n",
      "\r\n",
      "\u001B[1m[\u001B[0m\u001B[34;49mnotice\u001B[0m\u001B[1;39;49m]\u001B[0m\u001B[39;49m A new release of pip is available: \u001B[0m\u001B[31;49m23.2.1\u001B[0m\u001B[39;49m -> \u001B[0m\u001B[32;49m24.3.1\u001B[0m\r\n",
      "\u001B[1m[\u001B[0m\u001B[34;49mnotice\u001B[0m\u001B[1;39;49m]\u001B[0m\u001B[39;49m To update, run: \u001B[0m\u001B[32;49mpip install --upgrade pip\u001B[0m\r\n",
      "Note: you may need to restart the kernel to use updated packages.\n"
     ]
    }
   ],
   "execution_count": 1
  },
  {
   "metadata": {
    "ExecuteTime": {
     "end_time": "2025-01-26T04:50:23.670332Z",
     "start_time": "2025-01-26T04:50:23.665468Z"
    }
   },
   "cell_type": "code",
   "source": [
    "import html2text\n",
    "\n",
    "with open(\"test_html.html\", \"r\", encoding=\"utf-8\") as file:\n",
    "    html_content = file.read()\n",
    "\n",
    "h = html2text.HTML2Text(html_content)\n"
   ],
   "id": "341881ef870f06fc",
   "outputs": [],
   "execution_count": 6
  },
  {
   "metadata": {
    "ExecuteTime": {
     "end_time": "2025-01-26T04:50:31.244373Z",
     "start_time": "2025-01-26T04:50:31.241608Z"
    }
   },
   "cell_type": "code",
   "source": [
    "# plain_text = h.handle(html_content)\n",
    "print(h)"
   ],
   "id": "c3dc8bf68a4b76b2",
   "outputs": [
    {
     "name": "stdout",
     "output_type": "stream",
     "text": [
      "<html2text.HTML2Text object at 0x7f8ed846f0d0>\n"
     ]
    }
   ],
   "execution_count": 8
  },
  {
   "metadata": {
    "ExecuteTime": {
     "end_time": "2025-01-26T04:52:42.741818Z",
     "start_time": "2025-01-26T04:52:42.736406Z"
    }
   },
   "cell_type": "code",
   "source": "print(html2text.html2text(html_content))",
   "id": "f343fdac1f6439c8",
   "outputs": [
    {
     "name": "stdout",
     "output_type": "stream",
     "text": [
      "# Here is a heading\n",
      "\n",
      "Here is some text\n",
      "\n",
      "Symbol | Code word | Pronunciation  \n",
      "---|---|---  \n",
      "A | Alfa | AL fah  \n",
      "B | Bravo | BRAH voh  \n",
      "C | Charlie | CHAR lee  \n",
      "D | Delta | DELL tah\n",
      "\n",
      "\n"
     ]
    }
   ],
   "execution_count": 9
  },
  {
   "metadata": {},
   "cell_type": "code",
   "outputs": [],
   "execution_count": null,
   "source": "",
   "id": "5f4b82d6f80b8c7a"
  }
 ],
 "metadata": {
  "kernelspec": {
   "display_name": "Python 3",
   "language": "python",
   "name": "python3"
  },
  "language_info": {
   "codemirror_mode": {
    "name": "ipython",
    "version": 2
   },
   "file_extension": ".py",
   "mimetype": "text/x-python",
   "name": "python",
   "nbconvert_exporter": "python",
   "pygments_lexer": "ipython2",
   "version": "2.7.6"
  }
 },
 "nbformat": 4,
 "nbformat_minor": 5
}
