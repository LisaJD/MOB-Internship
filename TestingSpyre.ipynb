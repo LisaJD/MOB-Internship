{
 "cells": [
  {
   "metadata": {
    "ExecuteTime": {
     "end_time": "2025-01-26T07:39:54.732964Z",
     "start_time": "2025-01-26T07:39:39.137433Z"
    }
   },
   "cell_type": "code",
   "source": "%pip install spire.PDF",
   "id": "8ad3791268f78a55",
   "outputs": [
    {
     "name": "stdout",
     "output_type": "stream",
     "text": [
      "Collecting spire.PDF\r\n",
      "  Obtaining dependency information for spire.PDF from https://files.pythonhosted.org/packages/68/98/d21c5589dc71d9881e3842ae8f489ad7362a2e5b5d502a38c5106f0b23b0/Spire.Pdf-10.12.1-py3-none-macosx_10_7_universal.whl.metadata\r\n",
      "  Downloading Spire.Pdf-10.12.1-py3-none-macosx_10_7_universal.whl.metadata (7.0 kB)\r\n",
      "Collecting plum-dispatch==1.7.4 (from spire.PDF)\r\n",
      "  Obtaining dependency information for plum-dispatch==1.7.4 from https://files.pythonhosted.org/packages/e6/b6/3aaa985591c63da64c7bd8c5f470442a4c00b37ad3ed057f21de14174f83/plum_dispatch-1.7.4-py3-none-any.whl.metadata\r\n",
      "  Downloading plum_dispatch-1.7.4-py3-none-any.whl.metadata (1.8 kB)\r\n",
      "Downloading Spire.Pdf-10.12.1-py3-none-macosx_10_7_universal.whl (52.7 MB)\r\n",
      "\u001B[2K   \u001B[90m━━━━━━━━━━━━━━━━━━━━━━━━━━━━━━━━━━━━━━━━\u001B[0m \u001B[32m52.7/52.7 MB\u001B[0m \u001B[31m3.3 MB/s\u001B[0m eta \u001B[36m0:00:00\u001B[0m00:01\u001B[0m00:01\u001B[0mm\r\n",
      "\u001B[?25hDownloading plum_dispatch-1.7.4-py3-none-any.whl (24 kB)\r\n",
      "Installing collected packages: plum-dispatch, spire.PDF\r\n",
      "Successfully installed plum-dispatch-1.7.4 spire.PDF-10.12.1\r\n",
      "\r\n",
      "\u001B[1m[\u001B[0m\u001B[34;49mnotice\u001B[0m\u001B[1;39;49m]\u001B[0m\u001B[39;49m A new release of pip is available: \u001B[0m\u001B[31;49m23.2.1\u001B[0m\u001B[39;49m -> \u001B[0m\u001B[32;49m24.3.1\u001B[0m\r\n",
      "\u001B[1m[\u001B[0m\u001B[34;49mnotice\u001B[0m\u001B[1;39;49m]\u001B[0m\u001B[39;49m To update, run: \u001B[0m\u001B[32;49mpip install --upgrade pip\u001B[0m\r\n",
      "Note: you may need to restart the kernel to use updated packages.\n"
     ]
    }
   ],
   "execution_count": 1
  },
  {
   "cell_type": "code",
   "id": "initial_id",
   "metadata": {
    "collapsed": true,
    "ExecuteTime": {
     "end_time": "2025-01-26T07:41:36.343242Z",
     "start_time": "2025-01-26T07:41:31.382870Z"
    }
   },
   "source": [
    "from spire.pdf.common import *\n",
    "from spire.pdf import *\n",
    "\n",
    "doc = PdfDocument()\n",
    "doc.LoadFromFile(\"IntegratedList.pdf\")\n",
    "\n",
    "# Save the PDF document to HTML format\n",
    "doc.SaveToFile(\"PdfToHtml.html\", FileFormat.HTML)\n",
    "doc.Close()\n"
   ],
   "outputs": [],
   "execution_count": 3
  },
  {
   "metadata": {},
   "cell_type": "code",
   "outputs": [],
   "execution_count": null,
   "source": "",
   "id": "d9144560533979b9"
  }
 ],
 "metadata": {
  "kernelspec": {
   "display_name": "Python 3",
   "language": "python",
   "name": "python3"
  },
  "language_info": {
   "codemirror_mode": {
    "name": "ipython",
    "version": 2
   },
   "file_extension": ".py",
   "mimetype": "text/x-python",
   "name": "python",
   "nbconvert_exporter": "python",
   "pygments_lexer": "ipython2",
   "version": "2.7.6"
  }
 },
 "nbformat": 4,
 "nbformat_minor": 5
}
